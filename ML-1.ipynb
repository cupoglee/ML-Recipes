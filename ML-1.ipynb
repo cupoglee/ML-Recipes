{
  "nbformat": 4,
  "nbformat_minor": 0,
  "metadata": {
    "colab": {
      "provenance": [],
      "authorship_tag": "ABX9TyMdcR7GKSjwM7GYVMtoeTkq",
      "include_colab_link": true
    },
    "kernelspec": {
      "name": "python3",
      "display_name": "Python 3"
    },
    "language_info": {
      "name": "python"
    }
  },
  "cells": [
    {
      "cell_type": "markdown",
      "metadata": {
        "id": "view-in-github",
        "colab_type": "text"
      },
      "source": [
        "<a href=\"https://colab.research.google.com/github/cupoglee/ML-Recipes/blob/main/ML-1.ipynb\" target=\"_parent\"><img src=\"https://colab.research.google.com/assets/colab-badge.svg\" alt=\"Open In Colab\"/></a>"
      ]
    },
    {
      "cell_type": "code",
      "execution_count": 11,
      "metadata": {
        "colab": {
          "base_uri": "https://localhost:8080/"
        },
        "id": "I2AZKJwbM_zu",
        "outputId": "11301614-c5f6-4de9-a794-c58675e754d5"
      },
      "outputs": [
        {
          "output_type": "stream",
          "name": "stdout",
          "text": [
            "[1]\n"
          ]
        }
      ],
      "source": [
        "from sklearn import tree\n",
        "features = [[140, 1], [130, 1], [150, 0], [170, 0]]  # 1-smooth 0-bumpy\n",
        "labels = [0, 0, 1, 1]  #0-apple 1-orange\n",
        "\n",
        "clf = tree.DecisionTreeClassifier() #Defining a classifier - A classifier makes hard core rules.\n",
        "clf=clf.fit(features, labels)  #Fit is a classifier object - Find patterns in data\n",
        "\n",
        "print(clf.predict([[140, 0]]))\n"
      ]
    },
    {
      "cell_type": "code",
      "source": [
        "from sklearn import tree #Horsepowers seats car\n",
        "features = [[300, 2], [450, 2], [200, 8], [150, 9]]\n",
        "labels = [1, 1, 0, 0] #1- sports car 0- minivan\n",
        "\n",
        "clf=tree.DecisionTreeClassifier()\n",
        "clf=clf.fit(features, labels)\n",
        "\n",
        "print(clf.predict([[449, 2]]))"
      ],
      "metadata": {
        "colab": {
          "base_uri": "https://localhost:8080/"
        },
        "id": "b4qTSKSnYL1X",
        "outputId": "d02c77bd-c111-4a5f-e4b7-6c8963efe95c"
      },
      "execution_count": 12,
      "outputs": [
        {
          "output_type": "stream",
          "name": "stdout",
          "text": [
            "[1]\n"
          ]
        }
      ]
    }
  ]
}